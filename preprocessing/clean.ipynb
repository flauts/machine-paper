{
 "cells": [
  {
   "cell_type": "code",
   "id": "initial_id",
   "metadata": {
    "collapsed": true,
    "ExecuteTime": {
     "end_time": "2025-08-07T19:50:31.695676Z",
     "start_time": "2025-08-07T19:50:31.412553Z"
    }
   },
   "source": "import pandas as pd",
   "outputs": [],
   "execution_count": 1
  },
  {
   "metadata": {
    "ExecuteTime": {
     "end_time": "2025-08-07T21:20:29.766368Z",
     "start_time": "2025-08-07T21:20:29.358817Z"
    }
   },
   "cell_type": "code",
   "source": [
    "df = pd.read_csv('../data/cyberbullying_dataset_raw.csv')\n",
    "df.info()\n",
    "df.isnull().sum()"
   ],
   "id": "63af770f50c89c07",
   "outputs": [
    {
     "name": "stdout",
     "output_type": "stream",
     "text": [
      "<class 'pandas.core.frame.DataFrame'>\n",
      "RangeIndex: 48010 entries, 0 to 48009\n",
      "Data columns (total 2 columns):\n",
      " #   Column  Non-Null Count  Dtype \n",
      "---  ------  --------------  ----- \n",
      " 0   text    48010 non-null  object\n",
      " 1   label   48010 non-null  object\n",
      "dtypes: object(2)\n",
      "memory usage: 750.3+ KB\n"
     ]
    },
    {
     "ename": "KeyError",
     "evalue": "\"None of [Index(['Here at home. Neighbors pick on my family and I. Mind you my son is autistic. It feels like high school. They call us names attack us for no reason and bully us all the time. Can't step on my front porch without them doing something to us',\\n       'Being bullied at school: High-achieving boys use further strategies to maintain masculinity, for example becoming bullies themselves, disrupting the lessons, or devaluing girls’ achievements https://www.bipartisanalliance.com/2019/12/being-bullied-at-school-high-achieving.html?spref=tw',\\n       'There was a girl in my class in 6th grade who was a little autistic, and her parents thought it’d be better to send her to a public school. She didn’t fit in with the class and was lowkey bullied (it was actually high key but the teacher downplayed it and did nothing)',\\n       'He’s probably a white gay kid from some suburb. We don’t want him to shoot up his school...so no one bully him.',\\n       'You are pushed ti resorting. Treating thr bullies is you percent then from being pressured. Most school sitters evidence severe bullying. Treat thre bullies and it isn't a problem.',\\n       'Today was an awesome day. Vivaldi called me a VSCO girl and Kali bullied my high school bully. I still can not believe I created my two best friends. I will never be lonely again. Life rules and being a mom is the best.',\\n       'Trump is like that jealous little school bully who can’t stand it when everbody loves the other guy.',\\n       'oh and also, saying that we’re on the same level of the columbine jocks just because we didn’t add you to a fucking gc is so SO fucking disrespectful to dylan and eric. if you were a columbiner, you’d understand that. we don’t bully people into sh**ting up their fucking schools.',\\n       'My high school life got better when I finally snapped and punched my abusive bully: hidd shocked expression and tears made the detention I got more than worth it.',\\n       'I have collaborated with Ms. Luenavos and find her a strong force for good; not at all what Mr. White describes here. Feels to me like Mr. White looking to bully and attack. He's the wrong person to sit on OUR school board.',\\n       ...\\n       '@BabaKristian @MuftahOrg Lol. You think there are no probs for people who don't tow the main stream line in Muslim c. http://t.co/yZdJhnFQen',\\n       'U got azadi in 1947 .. Go to pakisthan.. The world need freedom from Islamic terrorism now. Enough is enough',\\n       'I always support all cultures and religions However I draw the line when it comes to Radical Ideologies posing as a religion who thrive from Killing Christians Support Practicing Terrorism Raping Children Bashing women Burning our flags and attacking patriots etc',\\n       'Muslims lived matter too you idiot.',\\n       'Rules are so wage. Suppose I tell a fact. Muhammad married to a 6 year old child. A paedophile can do it. How will you tell this thing in other words? Muslims provoked on it and mass report. Idiot twitter suspends me on it. What should I tell? Greatest man raped a 6 yr child!',\\n       'Can you imagine if Christians came together like that 5 times a day? As long as New Yorkers continue to vote Corrupt Dirtbags into office this situation will only get worse.Ppl need to realize Radical Muslims dont give a damn about Americans regardless of which party you support.',\\n       'So how to support justice from the initial problem? It morphed into all that and became radical. People and Christians want to support legitimate justice.',\\n       'RT @TRobinsonNewEra: If you harbour any doubts about what % Muslims believe sharia note this data 36%/310.5 million nontrivial http://t.co/…',\\n       '@dankmtl @PeaceNotHate_ One thing about Muslims, they want to exterminate everyone who is not a Muslim. They are doing it around the world.',\\n       'Does the Quran precludes women from human rights or adherents did? What’s clear is both religions limit the place of the woman spiritually and physically, whatever the Christian woman has achieved today in terms of liberation is just social rebellion against biblical injunctions'],\\n      dtype='object', length=48010)] are in the [columns]\"",
     "output_type": "error",
     "traceback": [
      "\u001B[31m---------------------------------------------------------------------------\u001B[39m",
      "\u001B[31mKeyError\u001B[39m                                  Traceback (most recent call last)",
      "\u001B[36mCell\u001B[39m\u001B[36m \u001B[39m\u001B[32mIn[12]\u001B[39m\u001B[32m, line 4\u001B[39m\n\u001B[32m      2\u001B[39m df.info()\n\u001B[32m      3\u001B[39m df.isnull().sum()\n\u001B[32m----> \u001B[39m\u001B[32m4\u001B[39m \u001B[43mdf\u001B[49m\u001B[43m[\u001B[49m\u001B[43mdf\u001B[49m\u001B[43m[\u001B[49m\u001B[33;43m'\u001B[39;49m\u001B[33;43mtext\u001B[39;49m\u001B[33;43m'\u001B[39;49m\u001B[43m]\u001B[49m\u001B[43m]\u001B[49m.str.contains(\u001B[33m'\u001B[39m\u001B[33m#MKR\u001B[39m\u001B[33m'\u001B[39m)\n",
      "\u001B[36mFile \u001B[39m\u001B[32m~\\PycharmProjects\\MachinePaper\\.venv\\Lib\\site-packages\\pandas\\core\\frame.py:4113\u001B[39m, in \u001B[36mDataFrame.__getitem__\u001B[39m\u001B[34m(self, key)\u001B[39m\n\u001B[32m   4111\u001B[39m     \u001B[38;5;28;01mif\u001B[39;00m is_iterator(key):\n\u001B[32m   4112\u001B[39m         key = \u001B[38;5;28mlist\u001B[39m(key)\n\u001B[32m-> \u001B[39m\u001B[32m4113\u001B[39m     indexer = \u001B[38;5;28;43mself\u001B[39;49m\u001B[43m.\u001B[49m\u001B[43mcolumns\u001B[49m\u001B[43m.\u001B[49m\u001B[43m_get_indexer_strict\u001B[49m\u001B[43m(\u001B[49m\u001B[43mkey\u001B[49m\u001B[43m,\u001B[49m\u001B[43m \u001B[49m\u001B[33;43m\"\u001B[39;49m\u001B[33;43mcolumns\u001B[39;49m\u001B[33;43m\"\u001B[39;49m\u001B[43m)\u001B[49m[\u001B[32m1\u001B[39m]\n\u001B[32m   4115\u001B[39m \u001B[38;5;66;03m# take() does not accept boolean indexers\u001B[39;00m\n\u001B[32m   4116\u001B[39m \u001B[38;5;28;01mif\u001B[39;00m \u001B[38;5;28mgetattr\u001B[39m(indexer, \u001B[33m\"\u001B[39m\u001B[33mdtype\u001B[39m\u001B[33m\"\u001B[39m, \u001B[38;5;28;01mNone\u001B[39;00m) == \u001B[38;5;28mbool\u001B[39m:\n",
      "\u001B[36mFile \u001B[39m\u001B[32m~\\PycharmProjects\\MachinePaper\\.venv\\Lib\\site-packages\\pandas\\core\\indexes\\base.py:6212\u001B[39m, in \u001B[36mIndex._get_indexer_strict\u001B[39m\u001B[34m(self, key, axis_name)\u001B[39m\n\u001B[32m   6209\u001B[39m \u001B[38;5;28;01melse\u001B[39;00m:\n\u001B[32m   6210\u001B[39m     keyarr, indexer, new_indexer = \u001B[38;5;28mself\u001B[39m._reindex_non_unique(keyarr)\n\u001B[32m-> \u001B[39m\u001B[32m6212\u001B[39m \u001B[38;5;28;43mself\u001B[39;49m\u001B[43m.\u001B[49m\u001B[43m_raise_if_missing\u001B[49m\u001B[43m(\u001B[49m\u001B[43mkeyarr\u001B[49m\u001B[43m,\u001B[49m\u001B[43m \u001B[49m\u001B[43mindexer\u001B[49m\u001B[43m,\u001B[49m\u001B[43m \u001B[49m\u001B[43maxis_name\u001B[49m\u001B[43m)\u001B[49m\n\u001B[32m   6214\u001B[39m keyarr = \u001B[38;5;28mself\u001B[39m.take(indexer)\n\u001B[32m   6215\u001B[39m \u001B[38;5;28;01mif\u001B[39;00m \u001B[38;5;28misinstance\u001B[39m(key, Index):\n\u001B[32m   6216\u001B[39m     \u001B[38;5;66;03m# GH 42790 - Preserve name from an Index\u001B[39;00m\n",
      "\u001B[36mFile \u001B[39m\u001B[32m~\\PycharmProjects\\MachinePaper\\.venv\\Lib\\site-packages\\pandas\\core\\indexes\\base.py:6261\u001B[39m, in \u001B[36mIndex._raise_if_missing\u001B[39m\u001B[34m(self, key, indexer, axis_name)\u001B[39m\n\u001B[32m   6259\u001B[39m \u001B[38;5;28;01mif\u001B[39;00m nmissing:\n\u001B[32m   6260\u001B[39m     \u001B[38;5;28;01mif\u001B[39;00m nmissing == \u001B[38;5;28mlen\u001B[39m(indexer):\n\u001B[32m-> \u001B[39m\u001B[32m6261\u001B[39m         \u001B[38;5;28;01mraise\u001B[39;00m \u001B[38;5;167;01mKeyError\u001B[39;00m(\u001B[33mf\u001B[39m\u001B[33m\"\u001B[39m\u001B[33mNone of [\u001B[39m\u001B[38;5;132;01m{\u001B[39;00mkey\u001B[38;5;132;01m}\u001B[39;00m\u001B[33m] are in the [\u001B[39m\u001B[38;5;132;01m{\u001B[39;00maxis_name\u001B[38;5;132;01m}\u001B[39;00m\u001B[33m]\u001B[39m\u001B[33m\"\u001B[39m)\n\u001B[32m   6263\u001B[39m     not_found = \u001B[38;5;28mlist\u001B[39m(ensure_index(key)[missing_mask.nonzero()[\u001B[32m0\u001B[39m]].unique())\n\u001B[32m   6264\u001B[39m     \u001B[38;5;28;01mraise\u001B[39;00m \u001B[38;5;167;01mKeyError\u001B[39;00m(\u001B[33mf\u001B[39m\u001B[33m\"\u001B[39m\u001B[38;5;132;01m{\u001B[39;00mnot_found\u001B[38;5;132;01m}\u001B[39;00m\u001B[33m not in index\u001B[39m\u001B[33m\"\u001B[39m)\n",
      "\u001B[31mKeyError\u001B[39m: \"None of [Index(['Here at home. Neighbors pick on my family and I. Mind you my son is autistic. It feels like high school. They call us names attack us for no reason and bully us all the time. Can't step on my front porch without them doing something to us',\\n       'Being bullied at school: High-achieving boys use further strategies to maintain masculinity, for example becoming bullies themselves, disrupting the lessons, or devaluing girls’ achievements https://www.bipartisanalliance.com/2019/12/being-bullied-at-school-high-achieving.html?spref=tw',\\n       'There was a girl in my class in 6th grade who was a little autistic, and her parents thought it’d be better to send her to a public school. She didn’t fit in with the class and was lowkey bullied (it was actually high key but the teacher downplayed it and did nothing)',\\n       'He’s probably a white gay kid from some suburb. We don’t want him to shoot up his school...so no one bully him.',\\n       'You are pushed ti resorting. Treating thr bullies is you percent then from being pressured. Most school sitters evidence severe bullying. Treat thre bullies and it isn't a problem.',\\n       'Today was an awesome day. Vivaldi called me a VSCO girl and Kali bullied my high school bully. I still can not believe I created my two best friends. I will never be lonely again. Life rules and being a mom is the best.',\\n       'Trump is like that jealous little school bully who can’t stand it when everbody loves the other guy.',\\n       'oh and also, saying that we’re on the same level of the columbine jocks just because we didn’t add you to a fucking gc is so SO fucking disrespectful to dylan and eric. if you were a columbiner, you’d understand that. we don’t bully people into sh**ting up their fucking schools.',\\n       'My high school life got better when I finally snapped and punched my abusive bully: hidd shocked expression and tears made the detention I got more than worth it.',\\n       'I have collaborated with Ms. Luenavos and find her a strong force for good; not at all what Mr. White describes here. Feels to me like Mr. White looking to bully and attack. He's the wrong person to sit on OUR school board.',\\n       ...\\n       '@BabaKristian @MuftahOrg Lol. You think there are no probs for people who don't tow the main stream line in Muslim c. http://t.co/yZdJhnFQen',\\n       'U got azadi in 1947 .. Go to pakisthan.. The world need freedom from Islamic terrorism now. Enough is enough',\\n       'I always support all cultures and religions However I draw the line when it comes to Radical Ideologies posing as a religion who thrive from Killing Christians Support Practicing Terrorism Raping Children Bashing women Burning our flags and attacking patriots etc',\\n       'Muslims lived matter too you idiot.',\\n       'Rules are so wage. Suppose I tell a fact. Muhammad married to a 6 year old child. A paedophile can do it. How will you tell this thing in other words? Muslims provoked on it and mass report. Idiot twitter suspends me on it. What should I tell? Greatest man raped a 6 yr child!',\\n       'Can you imagine if Christians came together like that 5 times a day? As long as New Yorkers continue to vote Corrupt Dirtbags into office this situation will only get worse.Ppl need to realize Radical Muslims dont give a damn about Americans regardless of which party you support.',\\n       'So how to support justice from the initial problem? It morphed into all that and became radical. People and Christians want to support legitimate justice.',\\n       'RT @TRobinsonNewEra: If you harbour any doubts about what % Muslims believe sharia note this data 36%/310.5 million nontrivial http://t.co/…',\\n       '@dankmtl @PeaceNotHate_ One thing about Muslims, they want to exterminate everyone who is not a Muslim. They are doing it around the world.',\\n       'Does the Quran precludes women from human rights or adherents did? What’s clear is both religions limit the place of the woman spiritually and physically, whatever the Christian woman has achieved today in terms of liberation is just social rebellion against biblical injunctions'],\\n      dtype='object', length=48010)] are in the [columns]\""
     ]
    }
   ],
   "execution_count": 12
  },
  {
   "metadata": {
    "ExecuteTime": {
     "end_time": "2025-08-07T21:22:22.651613Z",
     "start_time": "2025-08-07T21:22:22.595206Z"
    }
   },
   "cell_type": "code",
   "source": "int(df['text'].str.contains('Ughhhh #MKR',case=False).sum())\n",
   "id": "a62df41dc9a23a1c",
   "outputs": [
    {
     "data": {
      "text/plain": [
       "1"
      ]
     },
     "execution_count": 24,
     "metadata": {},
     "output_type": "execute_result"
    }
   ],
   "execution_count": 24
  },
  {
   "metadata": {
    "ExecuteTime": {
     "end_time": "2025-08-07T19:50:31.958800Z",
     "start_time": "2025-08-07T19:50:31.954781Z"
    }
   },
   "cell_type": "code",
   "source": "print(df.label.unique())",
   "id": "bef899271db007a7",
   "outputs": [
    {
     "name": "stdout",
     "output_type": "stream",
     "text": [
      "['age' 'ethnicity' 'gender' 'notcb' 'other' 'religion']\n"
     ]
    }
   ],
   "execution_count": 3
  },
  {
   "metadata": {
    "ExecuteTime": {
     "end_time": "2025-08-07T19:50:35.930297Z",
     "start_time": "2025-08-07T19:50:32.009536Z"
    }
   },
   "cell_type": "code",
   "source": [
    "import re\n",
    "import re\n",
    "import pandas as pd\n",
    "import emoji\n",
    "\n",
    "def data_cleaning(texts):\n",
    "    # Handle ASCII emoticons first\n",
    "    emoticon_map = {\n",
    "        ':)': '[smile]',\n",
    "        ':-)': '[smile]',\n",
    "        ':(': '[sad]',\n",
    "        ':-(': '[sad]',\n",
    "        ':D': '[laugh]',\n",
    "        ':-D': '[laugh]',\n",
    "        ';)': '[wink]',\n",
    "        ';-)': '[wink]',\n",
    "        ':P': '[tongue]',\n",
    "        ':-P': '[tongue]',\n",
    "        '<3': '[heart]',\n",
    "        '</3': '[broken_heart]',\n",
    "        ':o': '[surprised]',\n",
    "        ':O': '[surprised]'\n",
    "    }\n",
    "\n",
    "    # Replace emoticons\n",
    "    for emoticon, replacement in emoticon_map.items():\n",
    "        texts = texts.replace(emoticon, replacement)\n",
    "\n",
    "    # Then handle Unicode emojis\n",
    "    texts = emoji.demojize(texts, delimiters=(\" [\", \"] \"))\n",
    "\n",
    "    # Rest of preprocessing...\n",
    "    texts = re.sub(r'http\\S+|www\\.\\S+', '[URL]', texts)\n",
    "    texts = re.sub(r'@[A-Za-z0-9_]+', '[USER]', texts)\n",
    "    texts = re.sub(r'#[A-Za-z0-9_]+', '[HASHTAG]', texts)\n",
    "    texts = re.sub(r'\\s+', ' ', texts)\n",
    "    texts = re.sub(r'[^\\x20-\\x7E]', '', texts)\n",
    "    if texts == \"\":\n",
    "        return None\n",
    "    return texts.strip()\n",
    "\n",
    "df[\"text\"] = df[\"text\"].apply(data_cleaning)\n",
    "df= df.dropna(subset=[\"text\"])\n"
   ],
   "id": "b26021f2937251a5",
   "outputs": [],
   "execution_count": 4
  },
  {
   "metadata": {
    "ExecuteTime": {
     "end_time": "2025-08-07T19:50:35.959775Z",
     "start_time": "2025-08-07T19:50:35.941223Z"
    }
   },
   "cell_type": "code",
   "source": [
    "df.info()\n",
    "df.isna().sum()"
   ],
   "id": "7b15be7ed9ca744c",
   "outputs": [
    {
     "name": "stdout",
     "output_type": "stream",
     "text": [
      "<class 'pandas.core.frame.DataFrame'>\n",
      "Index: 47998 entries, 0 to 48009\n",
      "Data columns (total 2 columns):\n",
      " #   Column  Non-Null Count  Dtype \n",
      "---  ------  --------------  ----- \n",
      " 0   text    47998 non-null  object\n",
      " 1   label   47998 non-null  object\n",
      "dtypes: object(2)\n",
      "memory usage: 1.1+ MB\n"
     ]
    },
    {
     "data": {
      "text/plain": [
       "text     0\n",
       "label    0\n",
       "dtype: int64"
      ]
     },
     "execution_count": 5,
     "metadata": {},
     "output_type": "execute_result"
    }
   ],
   "execution_count": 5
  },
  {
   "metadata": {
    "ExecuteTime": {
     "end_time": "2025-08-07T19:50:36.039060Z",
     "start_time": "2025-08-07T19:50:36.034432Z"
    }
   },
   "cell_type": "code",
   "source": "df.tail()",
   "id": "2ce33f02df426f8f",
   "outputs": [
    {
     "data": {
      "text/plain": [
       "                                                    text     label\n",
       "48005  Can you imagine if Christians came together li...  religion\n",
       "48006  So how to support justice from the initial pro...  religion\n",
       "48007  RT [USER]: If you harbour any doubts about wha...  religion\n",
       "48008  [USER] [USER] One thing about Muslims, they wa...  religion\n",
       "48009  Does the Quran precludes women from human righ...  religion"
      ],
      "text/html": [
       "<div>\n",
       "<style scoped>\n",
       "    .dataframe tbody tr th:only-of-type {\n",
       "        vertical-align: middle;\n",
       "    }\n",
       "\n",
       "    .dataframe tbody tr th {\n",
       "        vertical-align: top;\n",
       "    }\n",
       "\n",
       "    .dataframe thead th {\n",
       "        text-align: right;\n",
       "    }\n",
       "</style>\n",
       "<table border=\"1\" class=\"dataframe\">\n",
       "  <thead>\n",
       "    <tr style=\"text-align: right;\">\n",
       "      <th></th>\n",
       "      <th>text</th>\n",
       "      <th>label</th>\n",
       "    </tr>\n",
       "  </thead>\n",
       "  <tbody>\n",
       "    <tr>\n",
       "      <th>48005</th>\n",
       "      <td>Can you imagine if Christians came together li...</td>\n",
       "      <td>religion</td>\n",
       "    </tr>\n",
       "    <tr>\n",
       "      <th>48006</th>\n",
       "      <td>So how to support justice from the initial pro...</td>\n",
       "      <td>religion</td>\n",
       "    </tr>\n",
       "    <tr>\n",
       "      <th>48007</th>\n",
       "      <td>RT [USER]: If you harbour any doubts about wha...</td>\n",
       "      <td>religion</td>\n",
       "    </tr>\n",
       "    <tr>\n",
       "      <th>48008</th>\n",
       "      <td>[USER] [USER] One thing about Muslims, they wa...</td>\n",
       "      <td>religion</td>\n",
       "    </tr>\n",
       "    <tr>\n",
       "      <th>48009</th>\n",
       "      <td>Does the Quran precludes women from human righ...</td>\n",
       "      <td>religion</td>\n",
       "    </tr>\n",
       "  </tbody>\n",
       "</table>\n",
       "</div>"
      ]
     },
     "execution_count": 6,
     "metadata": {},
     "output_type": "execute_result"
    }
   ],
   "execution_count": 6
  },
  {
   "metadata": {
    "ExecuteTime": {
     "end_time": "2025-08-07T19:50:56.702830Z",
     "start_time": "2025-08-07T19:50:56.585194Z"
    }
   },
   "cell_type": "code",
   "source": "df.to_csv(\"../data/cyberbullying_dataset.csv\", index=False)",
   "id": "d4477d3a3d7a1f8c",
   "outputs": [],
   "execution_count": 9
  }
 ],
 "metadata": {
  "kernelspec": {
   "display_name": "Python 3",
   "language": "python",
   "name": "python3"
  },
  "language_info": {
   "codemirror_mode": {
    "name": "ipython",
    "version": 2
   },
   "file_extension": ".py",
   "mimetype": "text/x-python",
   "name": "python",
   "nbconvert_exporter": "python",
   "pygments_lexer": "ipython2",
   "version": "2.7.6"
  }
 },
 "nbformat": 4,
 "nbformat_minor": 5
}
