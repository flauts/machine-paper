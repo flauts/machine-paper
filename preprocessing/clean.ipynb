{
 "cells": [
  {
   "cell_type": "code",
   "id": "initial_id",
   "metadata": {
    "collapsed": true,
    "ExecuteTime": {
     "end_time": "2025-08-07T04:20:09.759334Z",
     "start_time": "2025-08-07T04:20:09.756462Z"
    }
   },
   "source": "import pandas as pd",
   "outputs": [],
   "execution_count": 40
  },
  {
   "metadata": {
    "ExecuteTime": {
     "end_time": "2025-08-07T04:20:09.878464Z",
     "start_time": "2025-08-07T04:20:09.772104Z"
    }
   },
   "cell_type": "code",
   "source": [
    "df = pd.read_csv('../data/cyberbullying_dataset_raw.csv')\n",
    "df.head()"
   ],
   "id": "63af770f50c89c07",
   "outputs": [
    {
     "data": {
      "text/plain": [
       "                                                text label\n",
       "0  Here at home. Neighbors pick on my family and ...   age\n",
       "1  Being bullied at school: High-achieving boys u...   age\n",
       "2  There was a girl in my class in 6th grade who ...   age\n",
       "3  He’s probably a white gay kid from some suburb...   age\n",
       "4  You are pushed ti resorting. Treating thr bull...   age"
      ],
      "text/html": [
       "<div>\n",
       "<style scoped>\n",
       "    .dataframe tbody tr th:only-of-type {\n",
       "        vertical-align: middle;\n",
       "    }\n",
       "\n",
       "    .dataframe tbody tr th {\n",
       "        vertical-align: top;\n",
       "    }\n",
       "\n",
       "    .dataframe thead th {\n",
       "        text-align: right;\n",
       "    }\n",
       "</style>\n",
       "<table border=\"1\" class=\"dataframe\">\n",
       "  <thead>\n",
       "    <tr style=\"text-align: right;\">\n",
       "      <th></th>\n",
       "      <th>text</th>\n",
       "      <th>label</th>\n",
       "    </tr>\n",
       "  </thead>\n",
       "  <tbody>\n",
       "    <tr>\n",
       "      <th>0</th>\n",
       "      <td>Here at home. Neighbors pick on my family and ...</td>\n",
       "      <td>age</td>\n",
       "    </tr>\n",
       "    <tr>\n",
       "      <th>1</th>\n",
       "      <td>Being bullied at school: High-achieving boys u...</td>\n",
       "      <td>age</td>\n",
       "    </tr>\n",
       "    <tr>\n",
       "      <th>2</th>\n",
       "      <td>There was a girl in my class in 6th grade who ...</td>\n",
       "      <td>age</td>\n",
       "    </tr>\n",
       "    <tr>\n",
       "      <th>3</th>\n",
       "      <td>He’s probably a white gay kid from some suburb...</td>\n",
       "      <td>age</td>\n",
       "    </tr>\n",
       "    <tr>\n",
       "      <th>4</th>\n",
       "      <td>You are pushed ti resorting. Treating thr bull...</td>\n",
       "      <td>age</td>\n",
       "    </tr>\n",
       "  </tbody>\n",
       "</table>\n",
       "</div>"
      ]
     },
     "execution_count": 41,
     "metadata": {},
     "output_type": "execute_result"
    }
   ],
   "execution_count": 41
  },
  {
   "metadata": {
    "ExecuteTime": {
     "end_time": "2025-08-07T04:20:09.921852Z",
     "start_time": "2025-08-07T04:20:09.917277Z"
    }
   },
   "cell_type": "code",
   "source": "print(df.label.unique())",
   "id": "bef899271db007a7",
   "outputs": [
    {
     "name": "stdout",
     "output_type": "stream",
     "text": [
      "['age' 'ethnicity' 'gender' 'notcb' 'other' 'religion']\n"
     ]
    }
   ],
   "execution_count": 42
  },
  {
   "metadata": {
    "ExecuteTime": {
     "end_time": "2025-08-07T04:20:13.929422Z",
     "start_time": "2025-08-07T04:20:10.015218Z"
    }
   },
   "cell_type": "code",
   "source": [
    "import re\n",
    "import re\n",
    "import pandas as pd\n",
    "import emoji\n",
    "\n",
    "def data_cleaning(texts):\n",
    "    if not isinstance(texts, str):\n",
    "        return None\n",
    "\n",
    "    # Handle ASCII emoticons first\n",
    "    emoticon_map = {\n",
    "        ':)': '[smile]',\n",
    "        ':-)': '[smile]',\n",
    "        ':(': '[sad]',\n",
    "        ':-(': '[sad]',\n",
    "        ':D': '[laugh]',\n",
    "        ':-D': '[laugh]',\n",
    "        ';)': '[wink]',\n",
    "        ';-)': '[wink]',\n",
    "        ':P': '[tongue]',\n",
    "        ':-P': '[tongue]',\n",
    "        '<3': '[heart]',\n",
    "        '</3': '[broken_heart]',\n",
    "        ':o': '[surprised]',\n",
    "        ':O': '[surprised]'\n",
    "    }\n",
    "\n",
    "    # Replace emoticons\n",
    "    for emoticon, replacement in emoticon_map.items():\n",
    "        texts = texts.replace(emoticon, replacement)\n",
    "\n",
    "    # Then handle Unicode emojis\n",
    "    texts = emoji.demojize(texts, delimiters=(\" [\", \"] \"))\n",
    "\n",
    "    # Rest of preprocessing...\n",
    "    texts = re.sub(r'http\\S+|www\\.\\S+', '[URL]', texts)\n",
    "    texts = re.sub(r'@[A-Za-z0-9_]+', '[USER]', texts)\n",
    "    texts = re.sub(r'#[A-Za-z0-9_]+', '[HASHTAG]', texts)\n",
    "    texts = re.sub(r'\\s+', ' ', texts)\n",
    "    texts = re.sub(r'[^\\x20-\\x7E]', '', texts)\n",
    "\n",
    "    return texts.strip()\n",
    "\n",
    "df[\"text\"] = df[\"text\"].apply(data_cleaning)\n",
    "df[\"text\"] = df[\"text\"].dropna()\n"
   ],
   "id": "b26021f2937251a5",
   "outputs": [],
   "execution_count": 43
  },
  {
   "metadata": {
    "ExecuteTime": {
     "end_time": "2025-08-07T04:20:13.949415Z",
     "start_time": "2025-08-07T04:20:13.941731Z"
    }
   },
   "cell_type": "code",
   "source": "df.head()",
   "id": "7b15be7ed9ca744c",
   "outputs": [
    {
     "data": {
      "text/plain": [
       "                                                text label\n",
       "0  Here at home. Neighbors pick on my family and ...   age\n",
       "1  Being bullied at school: High-achieving boys u...   age\n",
       "2  There was a girl in my class in 6th grade who ...   age\n",
       "3  Hes probably a white gay kid from some suburb....   age\n",
       "4  You are pushed ti resorting. Treating thr bull...   age"
      ],
      "text/html": [
       "<div>\n",
       "<style scoped>\n",
       "    .dataframe tbody tr th:only-of-type {\n",
       "        vertical-align: middle;\n",
       "    }\n",
       "\n",
       "    .dataframe tbody tr th {\n",
       "        vertical-align: top;\n",
       "    }\n",
       "\n",
       "    .dataframe thead th {\n",
       "        text-align: right;\n",
       "    }\n",
       "</style>\n",
       "<table border=\"1\" class=\"dataframe\">\n",
       "  <thead>\n",
       "    <tr style=\"text-align: right;\">\n",
       "      <th></th>\n",
       "      <th>text</th>\n",
       "      <th>label</th>\n",
       "    </tr>\n",
       "  </thead>\n",
       "  <tbody>\n",
       "    <tr>\n",
       "      <th>0</th>\n",
       "      <td>Here at home. Neighbors pick on my family and ...</td>\n",
       "      <td>age</td>\n",
       "    </tr>\n",
       "    <tr>\n",
       "      <th>1</th>\n",
       "      <td>Being bullied at school: High-achieving boys u...</td>\n",
       "      <td>age</td>\n",
       "    </tr>\n",
       "    <tr>\n",
       "      <th>2</th>\n",
       "      <td>There was a girl in my class in 6th grade who ...</td>\n",
       "      <td>age</td>\n",
       "    </tr>\n",
       "    <tr>\n",
       "      <th>3</th>\n",
       "      <td>Hes probably a white gay kid from some suburb....</td>\n",
       "      <td>age</td>\n",
       "    </tr>\n",
       "    <tr>\n",
       "      <th>4</th>\n",
       "      <td>You are pushed ti resorting. Treating thr bull...</td>\n",
       "      <td>age</td>\n",
       "    </tr>\n",
       "  </tbody>\n",
       "</table>\n",
       "</div>"
      ]
     },
     "execution_count": 44,
     "metadata": {},
     "output_type": "execute_result"
    }
   ],
   "execution_count": 44
  },
  {
   "metadata": {
    "ExecuteTime": {
     "end_time": "2025-08-07T04:20:14.106364Z",
     "start_time": "2025-08-07T04:20:13.982364Z"
    }
   },
   "cell_type": "code",
   "source": "df.to_csv(\"../data/cyberbullying_dataset.csv\")",
   "id": "d4477d3a3d7a1f8c",
   "outputs": [],
   "execution_count": 45
  }
 ],
 "metadata": {
  "kernelspec": {
   "display_name": "Python 3",
   "language": "python",
   "name": "python3"
  },
  "language_info": {
   "codemirror_mode": {
    "name": "ipython",
    "version": 2
   },
   "file_extension": ".py",
   "mimetype": "text/x-python",
   "name": "python",
   "nbconvert_exporter": "python",
   "pygments_lexer": "ipython2",
   "version": "2.7.6"
  }
 },
 "nbformat": 4,
 "nbformat_minor": 5
}
