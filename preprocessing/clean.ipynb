{
 "cells": [
  {
   "cell_type": "code",
   "id": "initial_id",
   "metadata": {
    "collapsed": true,
    "ExecuteTime": {
     "end_time": "2025-08-07T19:50:31.695676Z",
     "start_time": "2025-08-07T19:50:31.412553Z"
    }
   },
   "source": "import pandas as pd",
   "outputs": [],
   "execution_count": 1
  },
  {
   "metadata": {
    "ExecuteTime": {
     "end_time": "2025-08-07T19:50:31.810364Z",
     "start_time": "2025-08-07T19:50:31.702972Z"
    }
   },
   "cell_type": "code",
   "source": [
    "df = pd.read_csv('../data/cyberbullying_dataset_raw.csv')\n",
    "df.info()\n",
    "df.isnull().sum()\n",
    "\n",
    "df.loc[18782]"
   ],
   "id": "63af770f50c89c07",
   "outputs": [
    {
     "name": "stdout",
     "output_type": "stream",
     "text": [
      "<class 'pandas.core.frame.DataFrame'>\n",
      "RangeIndex: 48010 entries, 0 to 48009\n",
      "Data columns (total 2 columns):\n",
      " #   Column  Non-Null Count  Dtype \n",
      "---  ------  --------------  ----- \n",
      " 0   text    48010 non-null  object\n",
      " 1   label   48010 non-null  object\n",
      "dtypes: object(2)\n",
      "memory usage: 750.3+ KB\n"
     ]
    },
    {
     "data": {
      "text/plain": [
       "text       ð¾\n",
       "label    gender\n",
       "Name: 18782, dtype: object"
      ]
     },
     "execution_count": 2,
     "metadata": {},
     "output_type": "execute_result"
    }
   ],
   "execution_count": 2
  },
  {
   "metadata": {
    "ExecuteTime": {
     "end_time": "2025-08-07T19:50:31.958800Z",
     "start_time": "2025-08-07T19:50:31.954781Z"
    }
   },
   "cell_type": "code",
   "source": "print(df.label.unique())",
   "id": "bef899271db007a7",
   "outputs": [
    {
     "name": "stdout",
     "output_type": "stream",
     "text": [
      "['age' 'ethnicity' 'gender' 'notcb' 'other' 'religion']\n"
     ]
    }
   ],
   "execution_count": 3
  },
  {
   "metadata": {
    "ExecuteTime": {
     "end_time": "2025-08-07T19:50:35.930297Z",
     "start_time": "2025-08-07T19:50:32.009536Z"
    }
   },
   "cell_type": "code",
   "source": [
    "import re\n",
    "import re\n",
    "import pandas as pd\n",
    "import emoji\n",
    "\n",
    "def data_cleaning(texts):\n",
    "    # Handle ASCII emoticons first\n",
    "    emoticon_map = {\n",
    "        ':)': '[smile]',\n",
    "        ':-)': '[smile]',\n",
    "        ':(': '[sad]',\n",
    "        ':-(': '[sad]',\n",
    "        ':D': '[laugh]',\n",
    "        ':-D': '[laugh]',\n",
    "        ';)': '[wink]',\n",
    "        ';-)': '[wink]',\n",
    "        ':P': '[tongue]',\n",
    "        ':-P': '[tongue]',\n",
    "        '<3': '[heart]',\n",
    "        '</3': '[broken_heart]',\n",
    "        ':o': '[surprised]',\n",
    "        ':O': '[surprised]'\n",
    "    }\n",
    "\n",
    "    # Replace emoticons\n",
    "    for emoticon, replacement in emoticon_map.items():\n",
    "        texts = texts.replace(emoticon, replacement)\n",
    "\n",
    "    # Then handle Unicode emojis\n",
    "    texts = emoji.demojize(texts, delimiters=(\" [\", \"] \"))\n",
    "\n",
    "    # Rest of preprocessing...\n",
    "    texts = re.sub(r'http\\S+|www\\.\\S+', '[URL]', texts)\n",
    "    texts = re.sub(r'@[A-Za-z0-9_]+', '[USER]', texts)\n",
    "    texts = re.sub(r'#[A-Za-z0-9_]+', '[HASHTAG]', texts)\n",
    "    texts = re.sub(r'\\s+', ' ', texts)\n",
    "    texts = re.sub(r'[^\\x20-\\x7E]', '', texts)\n",
    "    if texts == \"\":\n",
    "        return None\n",
    "    return texts.strip()\n",
    "\n",
    "df[\"text\"] = df[\"text\"].apply(data_cleaning)\n",
    "df= df.dropna(subset=[\"text\"])\n"
   ],
   "id": "b26021f2937251a5",
   "outputs": [],
   "execution_count": 4
  },
  {
   "metadata": {
    "ExecuteTime": {
     "end_time": "2025-08-07T19:50:35.959775Z",
     "start_time": "2025-08-07T19:50:35.941223Z"
    }
   },
   "cell_type": "code",
   "source": [
    "df.info()\n",
    "df.isna().sum()"
   ],
   "id": "7b15be7ed9ca744c",
   "outputs": [
    {
     "name": "stdout",
     "output_type": "stream",
     "text": [
      "<class 'pandas.core.frame.DataFrame'>\n",
      "Index: 47998 entries, 0 to 48009\n",
      "Data columns (total 2 columns):\n",
      " #   Column  Non-Null Count  Dtype \n",
      "---  ------  --------------  ----- \n",
      " 0   text    47998 non-null  object\n",
      " 1   label   47998 non-null  object\n",
      "dtypes: object(2)\n",
      "memory usage: 1.1+ MB\n"
     ]
    },
    {
     "data": {
      "text/plain": [
       "text     0\n",
       "label    0\n",
       "dtype: int64"
      ]
     },
     "execution_count": 5,
     "metadata": {},
     "output_type": "execute_result"
    }
   ],
   "execution_count": 5
  },
  {
   "metadata": {
    "ExecuteTime": {
     "end_time": "2025-08-07T19:50:36.039060Z",
     "start_time": "2025-08-07T19:50:36.034432Z"
    }
   },
   "cell_type": "code",
   "source": "df.tail()",
   "id": "2ce33f02df426f8f",
   "outputs": [
    {
     "data": {
      "text/plain": [
       "                                                    text     label\n",
       "48005  Can you imagine if Christians came together li...  religion\n",
       "48006  So how to support justice from the initial pro...  religion\n",
       "48007  RT [USER]: If you harbour any doubts about wha...  religion\n",
       "48008  [USER] [USER] One thing about Muslims, they wa...  religion\n",
       "48009  Does the Quran precludes women from human righ...  religion"
      ],
      "text/html": [
       "<div>\n",
       "<style scoped>\n",
       "    .dataframe tbody tr th:only-of-type {\n",
       "        vertical-align: middle;\n",
       "    }\n",
       "\n",
       "    .dataframe tbody tr th {\n",
       "        vertical-align: top;\n",
       "    }\n",
       "\n",
       "    .dataframe thead th {\n",
       "        text-align: right;\n",
       "    }\n",
       "</style>\n",
       "<table border=\"1\" class=\"dataframe\">\n",
       "  <thead>\n",
       "    <tr style=\"text-align: right;\">\n",
       "      <th></th>\n",
       "      <th>text</th>\n",
       "      <th>label</th>\n",
       "    </tr>\n",
       "  </thead>\n",
       "  <tbody>\n",
       "    <tr>\n",
       "      <th>48005</th>\n",
       "      <td>Can you imagine if Christians came together li...</td>\n",
       "      <td>religion</td>\n",
       "    </tr>\n",
       "    <tr>\n",
       "      <th>48006</th>\n",
       "      <td>So how to support justice from the initial pro...</td>\n",
       "      <td>religion</td>\n",
       "    </tr>\n",
       "    <tr>\n",
       "      <th>48007</th>\n",
       "      <td>RT [USER]: If you harbour any doubts about wha...</td>\n",
       "      <td>religion</td>\n",
       "    </tr>\n",
       "    <tr>\n",
       "      <th>48008</th>\n",
       "      <td>[USER] [USER] One thing about Muslims, they wa...</td>\n",
       "      <td>religion</td>\n",
       "    </tr>\n",
       "    <tr>\n",
       "      <th>48009</th>\n",
       "      <td>Does the Quran precludes women from human righ...</td>\n",
       "      <td>religion</td>\n",
       "    </tr>\n",
       "  </tbody>\n",
       "</table>\n",
       "</div>"
      ]
     },
     "execution_count": 6,
     "metadata": {},
     "output_type": "execute_result"
    }
   ],
   "execution_count": 6
  },
  {
   "metadata": {
    "ExecuteTime": {
     "end_time": "2025-08-07T19:50:56.702830Z",
     "start_time": "2025-08-07T19:50:56.585194Z"
    }
   },
   "cell_type": "code",
   "source": "df.to_csv(\"../data/cyberbullying_dataset.csv\", index=False)",
   "id": "d4477d3a3d7a1f8c",
   "outputs": [],
   "execution_count": 9
  }
 ],
 "metadata": {
  "kernelspec": {
   "display_name": "Python 3",
   "language": "python",
   "name": "python3"
  },
  "language_info": {
   "codemirror_mode": {
    "name": "ipython",
    "version": 2
   },
   "file_extension": ".py",
   "mimetype": "text/x-python",
   "name": "python",
   "nbconvert_exporter": "python",
   "pygments_lexer": "ipython2",
   "version": "2.7.6"
  }
 },
 "nbformat": 4,
 "nbformat_minor": 5
}
