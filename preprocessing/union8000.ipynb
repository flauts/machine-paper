{
 "cells": [
  {
   "metadata": {
    "ExecuteTime": {
     "end_time": "2025-08-07T00:12:31.464257Z",
     "start_time": "2025-08-07T00:12:30.530333Z"
    }
   },
   "cell_type": "code",
   "source": [
    "import pandas as pd\n",
    "import glob\n",
    "import os\n",
    "\n",
    "# Path to all matching files\n",
    "files = glob.glob(\"../data/8000*.txt\")\n",
    "\n",
    "all_rows = []\n",
    "\n",
    "for filepath in files:\n",
    "    category = os.path.splitext(os.path.basename(filepath))[0].replace(\"8000\", \"\")\n",
    "\n",
    "    with open(filepath, \"r\", encoding=\"utf-8\") as f:\n",
    "        lines = f.read().splitlines()\n",
    "\n",
    "    for line in lines:\n",
    "        if line.strip():  # skip empty lines\n",
    "            all_rows.append({\n",
    "                \"text\": line.strip(),\n",
    "                \"label\": category,\n",
    "            })\n",
    "\n",
    "# Create DataFrame\n",
    "df = pd.DataFrame(all_rows)\n",
    "\n",
    "df.to_csv(\"cyberbullying_dataset_raw.csv\", index=False)\n",
    "print(\"Saved combined CSV with\", len(df), \"entries.\")\n"
   ],
   "id": "fad64bfd5c3ec3b4",
   "outputs": [
    {
     "name": "stdout",
     "output_type": "stream",
     "text": [
      "Saved combined CSV with 48010 entries.\n"
     ]
    }
   ],
   "execution_count": 1
  },
  {
   "metadata": {
    "ExecuteTime": {
     "end_time": "2025-08-07T00:16:00.996950Z",
     "start_time": "2025-08-07T00:16:00.889676Z"
    }
   },
   "cell_type": "code",
   "source": "pd.read_csv(\"../data/cyberbullying_dataset_raw.csv\").label.value_counts()",
   "id": "30760790787449c1",
   "outputs": [
    {
     "data": {
      "text/plain": [
       "label\n",
       "other        8006\n",
       "gender       8004\n",
       "notcb        8001\n",
       "ethnicity    8000\n",
       "religion     8000\n",
       "age          7999\n",
       "Name: count, dtype: int64"
      ]
     },
     "execution_count": 3,
     "metadata": {},
     "output_type": "execute_result"
    }
   ],
   "execution_count": 3
  }
 ],
 "metadata": {
  "kernelspec": {
   "display_name": "Python 3",
   "language": "python",
   "name": "python3"
  },
  "language_info": {
   "codemirror_mode": {
    "name": "ipython",
    "version": 2
   },
   "file_extension": ".py",
   "mimetype": "text/x-python",
   "name": "python",
   "nbconvert_exporter": "python",
   "pygments_lexer": "ipython2",
   "version": "2.7.6"
  }
 },
 "nbformat": 4,
 "nbformat_minor": 5
}
