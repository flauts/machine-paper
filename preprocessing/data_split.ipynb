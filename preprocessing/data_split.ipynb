{
 "cells": [
  {
   "cell_type": "code",
   "id": "initial_id",
   "metadata": {
    "collapsed": true,
    "ExecuteTime": {
     "end_time": "2025-07-26T02:35:19.034571Z",
     "start_time": "2025-07-26T02:35:19.030992Z"
    }
   },
   "source": "dataset_name = \"hatexplain\"",
   "outputs": [],
   "execution_count": 1
  },
  {
   "metadata": {
    "ExecuteTime": {
     "end_time": "2025-07-26T02:50:55.929816Z",
     "start_time": "2025-07-26T02:50:55.913051Z"
    }
   },
   "cell_type": "code",
   "source": [
    "import pandas as pd\n",
    "import numpy as np\n",
    "from sklearn.model_selection import train_test_split\n",
    "\n",
    "df = pd.read_parquet(\"/data/hatexplain/hatexplain.parquet\")"
   ],
   "id": "8d266d8e9c65e00",
   "outputs": [],
   "execution_count": 7
  },
  {
   "metadata": {
    "ExecuteTime": {
     "end_time": "2025-07-26T02:50:57.789651Z",
     "start_time": "2025-07-26T02:50:57.782700Z"
    }
   },
   "cell_type": "code",
   "source": [
    "train_df, temp_df = train_test_split(df, test_size=0.2, random_state=42)\n",
    "valid_df, test_df = train_test_split(temp_df, test_size=0.5, random_state=42)"
   ],
   "id": "7e2b666757974fdd",
   "outputs": [],
   "execution_count": 8
  },
  {
   "metadata": {
    "ExecuteTime": {
     "end_time": "2025-07-26T02:50:59.545730Z",
     "start_time": "2025-07-26T02:50:59.509238Z"
    }
   },
   "cell_type": "code",
   "source": [
    "train_df.to_parquet(f\"{dataset_name}_train.parquet\")\n",
    "valid_df.to_parquet(f\"{dataset_name}_valid.parquet\")\n",
    "test_df.to_parquet(f\"{dataset_name}_test.parquet\")"
   ],
   "id": "97dc34d995648370",
   "outputs": [],
   "execution_count": 9
  }
 ],
 "metadata": {
  "kernelspec": {
   "display_name": "Python 3",
   "language": "python",
   "name": "python3"
  },
  "language_info": {
   "codemirror_mode": {
    "name": "ipython",
    "version": 2
   },
   "file_extension": ".py",
   "mimetype": "text/x-python",
   "name": "python",
   "nbconvert_exporter": "python",
   "pygments_lexer": "ipython2",
   "version": "2.7.6"
  }
 },
 "nbformat": 4,
 "nbformat_minor": 5
}
