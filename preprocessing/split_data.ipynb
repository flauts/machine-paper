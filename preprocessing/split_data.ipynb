{
 "cells": [
  {
   "metadata": {
    "ExecuteTime": {
     "end_time": "2025-08-07T19:51:29.598315Z",
     "start_time": "2025-08-07T19:51:29.520031Z"
    }
   },
   "cell_type": "code",
   "source": [
    "import pandas as pd\n",
    "from sklearn.model_selection import train_test_split\n",
    "df = pd.read_csv(\"../data/cyberbullying_dataset.csv\")\n",
    "df.info()"
   ],
   "id": "c6a7ba43f6c9c821",
   "outputs": [
    {
     "name": "stdout",
     "output_type": "stream",
     "text": [
      "<class 'pandas.core.frame.DataFrame'>\n",
      "RangeIndex: 47998 entries, 0 to 47997\n",
      "Data columns (total 2 columns):\n",
      " #   Column  Non-Null Count  Dtype \n",
      "---  ------  --------------  ----- \n",
      " 0   text    47998 non-null  object\n",
      " 1   label   47998 non-null  object\n",
      "dtypes: object(2)\n",
      "memory usage: 750.1+ KB\n"
     ]
    }
   ],
   "execution_count": 29
  },
  {
   "cell_type": "code",
   "id": "initial_id",
   "metadata": {
    "collapsed": true,
    "ExecuteTime": {
     "end_time": "2025-08-07T19:51:29.759137Z",
     "start_time": "2025-08-07T19:51:29.615493Z"
    }
   },
   "source": [
    "data = df['text']\n",
    "labels = df['label']\n",
    "\n",
    "train_data, test_data, train_labels, test_labels = train_test_split(data, labels, test_size=0.2, random_state=42, stratify=labels)\n",
    "\n",
    "train_data = pd.concat([train_data, train_labels], axis=1)\n",
    "test_data = pd.concat([test_data, test_labels], axis=1)\n",
    "train_data.to_csv(\"../data/train_data.csv\", index=False)\n",
    "test_data.to_csv(\"../data/test_data.csv\", index=False)\n",
    "\n"
   ],
   "outputs": [],
   "execution_count": 30
  },
  {
   "metadata": {
    "ExecuteTime": {
     "end_time": "2025-08-07T19:51:29.836188Z",
     "start_time": "2025-08-07T19:51:29.771652Z"
    }
   },
   "cell_type": "code",
   "source": "df1 = pd.read_csv(\"../data/cyberbullying_dataset.csv\")",
   "id": "a0998d6dba032c96",
   "outputs": [],
   "execution_count": 31
  }
 ],
 "metadata": {
  "kernelspec": {
   "display_name": "Python 3",
   "language": "python",
   "name": "python3"
  },
  "language_info": {
   "codemirror_mode": {
    "name": "ipython",
    "version": 2
   },
   "file_extension": ".py",
   "mimetype": "text/x-python",
   "name": "python",
   "nbconvert_exporter": "python",
   "pygments_lexer": "ipython2",
   "version": "2.7.6"
  }
 },
 "nbformat": 4,
 "nbformat_minor": 5
}
