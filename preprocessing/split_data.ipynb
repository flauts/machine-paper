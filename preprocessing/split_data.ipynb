{
 "cells": [
  {
   "cell_type": "code",
   "id": "initial_id",
   "metadata": {
    "collapsed": true,
    "ExecuteTime": {
     "end_time": "2025-08-07T04:20:18.021740Z",
     "start_time": "2025-08-07T04:20:17.786274Z"
    }
   },
   "source": [
    "import pandas as pd\n",
    "from sklearn.model_selection import train_test_split\n",
    "df = pd.read_csv(\"../data/cyberbullying_dataset.csv\")\n",
    "data = df['text']\n",
    "labels = df['label']\n",
    "\n",
    "train_data, test_data, train_labels, test_labels = train_test_split(data, labels, test_size=0.2, random_state=42, stratify=labels)\n",
    "\n",
    "train_data = pd.concat([train_data, train_labels], axis=1)\n",
    "test_data = pd.concat([test_data, test_labels], axis=1)\n",
    "train_data.to_csv(\"../data/train_data.csv\", index=False)\n",
    "test_data.to_csv(\"../data/test_data.csv\", index=False)\n",
    "\n"
   ],
   "outputs": [],
   "execution_count": 6
  }
 ],
 "metadata": {
  "kernelspec": {
   "display_name": "Python 3",
   "language": "python",
   "name": "python3"
  },
  "language_info": {
   "codemirror_mode": {
    "name": "ipython",
    "version": 2
   },
   "file_extension": ".py",
   "mimetype": "text/x-python",
   "name": "python",
   "nbconvert_exporter": "python",
   "pygments_lexer": "ipython2",
   "version": "2.7.6"
  }
 },
 "nbformat": 4,
 "nbformat_minor": 5
}
